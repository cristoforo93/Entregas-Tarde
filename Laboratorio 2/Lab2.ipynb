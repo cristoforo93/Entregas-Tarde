{
 "cells": [
  {
   "cell_type": "code",
   "execution_count": 1,
   "metadata": {},
   "outputs": [],
   "source": [
    "import math\n",
    "import datetime\n",
    "import random as rnd"
   ]
  },
  {
   "attachments": {},
   "cell_type": "markdown",
   "metadata": {},
   "source": [
    "# Laboratorio 2"
   ]
  },
  {
   "attachments": {},
   "cell_type": "markdown",
   "metadata": {},
   "source": [
    "## Ejercicio 1"
   ]
  },
  {
   "cell_type": "code",
   "execution_count": 2,
   "metadata": {},
   "outputs": [],
   "source": [
    "def ejercicio1(n):\n",
    "    # dejar todo en términos de horas\n",
    "    n = n*(1/60)*(1/60)\n",
    "\n",
    "    # calculamos las horas\n",
    "    horas, n = divmod(n,1)\n",
    "    \n",
    "    # dejar todo en términos de minutos\n",
    "    n = n*60\n",
    "\n",
    "    # calculamos los minutos\n",
    "    minutos, n = divmod(n,1)\n",
    "\n",
    "    # dejar todo en términos de segundos\n",
    "    segundos = n*60\n",
    "\n",
    "    return print(f\"Horas: {horas}. Minutos: {minutos}. Segundos: {segundos}.\")"
   ]
  },
  {
   "cell_type": "code",
   "execution_count": 3,
   "metadata": {},
   "outputs": [
    {
     "name": "stdout",
     "output_type": "stream",
     "text": [
      "Horas: 0.0. Minutos: 45.0. Segundos: 43.000000000000114.\n"
     ]
    }
   ],
   "source": [
    "n = input(\"Ingrese el número de segundos a convertir: \")\n",
    "\n",
    "try:\n",
    "    n = int(n)\n",
    "    ejercicio1(n)\n",
    "except:\n",
    "    print(\"No ingreso un número válido.\")"
   ]
  },
  {
   "attachments": {},
   "cell_type": "markdown",
   "metadata": {},
   "source": [
    "## Ejercicio 2"
   ]
  },
  {
   "cell_type": "code",
   "execution_count": 4,
   "metadata": {},
   "outputs": [
    {
     "name": "stdout",
     "output_type": "stream",
     "text": [
      "*\n",
      "**\n",
      "***\n",
      "****\n",
      "*****\n",
      "    *\n",
      "   **\n",
      "  ***\n",
      " ****\n",
      "*****\n"
     ]
    }
   ],
   "source": [
    "n = input(\"Ingrese un número entero entre 1 y 20: \")\n",
    "try:\n",
    "    n = int(n)\n",
    "\n",
    "    for i in range(1,n+1):\n",
    "        print(i*'*')\n",
    "\n",
    "    for i in range(1,n+1):\n",
    "        print(' '*(n-i)+'*'*i)\n",
    "\n",
    "except:\n",
    "    print(\"No ingresó un úmero válido.\")\n",
    "    "
   ]
  },
  {
   "attachments": {},
   "cell_type": "markdown",
   "metadata": {},
   "source": [
    "## Ejercicio 3"
   ]
  },
  {
   "cell_type": "code",
   "execution_count": 5,
   "metadata": {},
   "outputs": [
    {
     "name": "stdout",
     "output_type": "stream",
     "text": [
      "Años: 29. Meses: 3. Días: 7.\n"
     ]
    }
   ],
   "source": [
    "dia = input(\"Ingrese el día de su nacimiento: \")\n",
    "mes = input(\"Ingrese el mes de su nacimiento: \")\n",
    "año = input(\"Ingrese el año de su nacimiento: \")\n",
    "\n",
    "try:\n",
    "    dia = int(dia)\n",
    "    mes = int(mes)\n",
    "    año = int(año)\n",
    "\n",
    "    fecha_actual = datetime.date.today()\n",
    "\n",
    "    años = fecha_actual.year - año\n",
    "    meses = fecha_actual.month - mes\n",
    "    dias = fecha_actual.day - dia\n",
    "\n",
    "    if meses < 0:\n",
    "        años -= 1\n",
    "        meses += 12\n",
    "    if dias < 0:\n",
    "        meses -= 1\n",
    "        dias += 31\n",
    "\n",
    "    print(f\"Años: {años}. Meses: {meses}. Días: {dias}.\")\n",
    "\n",
    "\n",
    "except:\n",
    "    print(\"Valores inválidos.\")   "
   ]
  },
  {
   "attachments": {},
   "cell_type": "markdown",
   "metadata": {},
   "source": [
    "## Ejercicio 4"
   ]
  },
  {
   "cell_type": "code",
   "execution_count": 6,
   "metadata": {},
   "outputs": [],
   "source": [
    "def ejercicio4(tupla):\n",
    "\n",
    "    cadena = ''\n",
    "\n",
    "    for i in tupla:\n",
    "        cadena = cadena + str(i)\n",
    "\n",
    "    return cadena"
   ]
  },
  {
   "cell_type": "code",
   "execution_count": 7,
   "metadata": {},
   "outputs": [
    {
     "data": {
      "text/plain": [
       "'123hola'"
      ]
     },
     "execution_count": 7,
     "metadata": {},
     "output_type": "execute_result"
    }
   ],
   "source": [
    "ejercicio4((1,2,3,'hola'))"
   ]
  },
  {
   "attachments": {},
   "cell_type": "markdown",
   "metadata": {},
   "source": [
    "## Ejercicio 5"
   ]
  },
  {
   "cell_type": "code",
   "execution_count": 8,
   "metadata": {},
   "outputs": [],
   "source": [
    "def ejercicio5(lista):\n",
    "    \n",
    "    nueva_lista = []\n",
    "\n",
    "    for tupla in lista:\n",
    "        if tupla != ():\n",
    "            nueva_lista.append(tupla)\n",
    "    \n",
    "    return nueva_lista"
   ]
  },
  {
   "cell_type": "code",
   "execution_count": 9,
   "metadata": {},
   "outputs": [
    {
     "data": {
      "text/plain": [
       "[('a', 'b'), ('x',)]"
      ]
     },
     "execution_count": 9,
     "metadata": {},
     "output_type": "execute_result"
    }
   ],
   "source": [
    "ejercicio5([('a','b'),(),(),('x',)])"
   ]
  },
  {
   "attachments": {},
   "cell_type": "markdown",
   "metadata": {},
   "source": [
    "## Ejercicio 6"
   ]
  },
  {
   "cell_type": "code",
   "execution_count": 10,
   "metadata": {},
   "outputs": [],
   "source": [
    "def ejercicio6(lista):\n",
    "\n",
    "    promedios = []\n",
    "\n",
    "    for tupla in lista:\n",
    "        suma = 0\n",
    "        for i in tupla:\n",
    "            suma = suma + i\n",
    "        promedios.append(suma/len(tupla))\n",
    "\n",
    "    return tuple(promedios)"
   ]
  },
  {
   "cell_type": "code",
   "execution_count": 11,
   "metadata": {},
   "outputs": [
    {
     "data": {
      "text/plain": [
       "(10.5, 44.0, 58.0)"
      ]
     },
     "execution_count": 11,
     "metadata": {},
     "output_type": "execute_result"
    }
   ],
   "source": [
    "ejercicio6(((10,10,10,12),(30,45,56,45),(81,80,39,32)))"
   ]
  },
  {
   "attachments": {},
   "cell_type": "markdown",
   "metadata": {},
   "source": [
    "## Ejercicio 7"
   ]
  },
  {
   "cell_type": "code",
   "execution_count": 25,
   "metadata": {},
   "outputs": [],
   "source": [
    "def añadir(facturas, llave, costo):\n",
    "\n",
    "    facturas.update({llave: costo})\n",
    "\n",
    "    return print(f'El costo de la factura {costo} y su llave es {llave}.'), print(facturas)\n",
    "\n",
    "def pagar(facturas, llave):\n",
    "\n",
    "    facturas.pop(llave)\n",
    "\n",
    "    return print(f'Se pagó la factura con llave {llave}'), print(facturas)"
   ]
  },
  {
   "cell_type": "code",
   "execution_count": 26,
   "metadata": {},
   "outputs": [
    {
     "name": "stdout",
     "output_type": "stream",
     "text": [
      "1. Añadir factura.\n",
      "2. Pagar factura.\n",
      "3. Salir.\n",
      "El costo de la factura 6.66 y su llave es 1234.\n",
      "{1234: 6.66}\n",
      "1. Añadir factura.\n",
      "2. Pagar factura.\n",
      "3. Salir.\n",
      "Se pagó la factura con llave 1234.0\n",
      "{}\n",
      "1. Añadir factura.\n",
      "2. Pagar factura.\n",
      "3. Salir.\n"
     ]
    }
   ],
   "source": [
    "opcion = 0\n",
    "\n",
    "facturas = dict()\n",
    "\n",
    "while opcion != 3:\n",
    "\n",
    "    print('1. Añadir factura.')\n",
    "    print('2. Pagar factura.')\n",
    "    print('3. Salir.')\n",
    "\n",
    "    try:\n",
    "\n",
    "        opcion = int(input(\"Elija la opción que desea ejecutar: \"))\n",
    "\n",
    "        if opcion == 1:\n",
    "\n",
    "            try:\n",
    "\n",
    "                llave = int(input('Ingrese el número de factura: '))\n",
    "\n",
    "                try:\n",
    "\n",
    "                    costo = float(input('Ingrese el costo total de la factura: '))\n",
    "\n",
    "                    añadir(facturas, llave, costo)\n",
    "\n",
    "                except:\n",
    "\n",
    "                    print('Valor inválido')\n",
    "\n",
    "            except:\n",
    "\n",
    "                print(\"Valor inválido.\")\n",
    "\n",
    "        if opcion == 2:\n",
    "\n",
    "            try:\n",
    "\n",
    "                llave = float(input('Ingrese la clave de la factura a pagar: '))\n",
    "\n",
    "                pagar(facturas, llave)\n",
    "\n",
    "            except:\n",
    "\n",
    "                print(\"Valor inválido.\")\n",
    "\n",
    "    except:\n",
    "\n",
    "        print(\"Número inválido.\")"
   ]
  },
  {
   "attachments": {},
   "cell_type": "markdown",
   "metadata": {},
   "source": [
    "## Ejercicio 8"
   ]
  },
  {
   "cell_type": "code",
   "execution_count": 49,
   "metadata": {},
   "outputs": [],
   "source": [
    "def baraja(tipo, numero):\n",
    "    mazo = set()\n",
    "    for t in tipo:\n",
    "        for n in numero:\n",
    "            mazo.add(t+str(n))\n",
    "    return mazo\n",
    "\n",
    "def random_sets(mazo):\n",
    "    \n",
    "    x1 = rnd.randint(1,52)\n",
    "    x2 = rnd.randint(1,52)\n",
    "\n",
    "    mazo1 = set()\n",
    "    mazo2 = set()\n",
    "\n",
    "    mazo_aux = list(mazo)\n",
    "    for i in range(x1):\n",
    "\n",
    "        carta = rnd.choice(mazo_aux)\n",
    "        mazo1.add(carta)\n",
    "        mazo_aux.remove(carta)\n",
    "\n",
    "    mazo_aux = mazo\n",
    "    for i in range(x2):\n",
    "\n",
    "        carta = rnd.choice(mazo_aux)\n",
    "        mazo2.add(carta)\n",
    "        mazo_aux.remove(carta)\n",
    "\n",
    "    return [mazo1, mazo2]"
   ]
  },
  {
   "cell_type": "code",
   "execution_count": 50,
   "metadata": {},
   "outputs": [
    {
     "ename": "TypeError",
     "evalue": "'set' object is not subscriptable",
     "output_type": "error",
     "traceback": [
      "\u001b[1;31m---------------------------------------------------------------------------\u001b[0m",
      "\u001b[1;31mTypeError\u001b[0m                                 Traceback (most recent call last)",
      "Cell \u001b[1;32mIn[50], line 5\u001b[0m\n\u001b[0;32m      2\u001b[0m numero \u001b[39m=\u001b[39m \u001b[39mlist\u001b[39m(\u001b[39mrange\u001b[39m(\u001b[39m1\u001b[39m,\u001b[39m14\u001b[39m))\n\u001b[0;32m      3\u001b[0m mazo \u001b[39m=\u001b[39m baraja(tipo,numero)\n\u001b[1;32m----> 5\u001b[0m mazo1 \u001b[39m=\u001b[39m random_sets(mazo)[\u001b[39m0\u001b[39m]\n\u001b[0;32m      6\u001b[0m mazo2 \u001b[39m=\u001b[39m random_sets(mazo)[\u001b[39m1\u001b[39m]\n",
      "Cell \u001b[1;32mIn[49], line 26\u001b[0m, in \u001b[0;36mrandom_sets\u001b[1;34m(mazo)\u001b[0m\n\u001b[0;32m     23\u001b[0m mazo_aux \u001b[39m=\u001b[39m mazo\n\u001b[0;32m     24\u001b[0m \u001b[39mfor\u001b[39;00m i \u001b[39min\u001b[39;00m \u001b[39mrange\u001b[39m(x2):\n\u001b[1;32m---> 26\u001b[0m     carta \u001b[39m=\u001b[39m rnd\u001b[39m.\u001b[39;49mchoice(mazo_aux)\n\u001b[0;32m     27\u001b[0m     mazo2\u001b[39m.\u001b[39madd(carta)\n\u001b[0;32m     28\u001b[0m     mazo_aux\u001b[39m.\u001b[39mremove(carta)\n",
      "File \u001b[1;32mc:\\Users\\cycastañeda\\AppData\\Local\\Programs\\Python\\Python311\\Lib\\random.py:371\u001b[0m, in \u001b[0;36mRandom.choice\u001b[1;34m(self, seq)\u001b[0m\n\u001b[0;32m    369\u001b[0m \u001b[39mif\u001b[39;00m \u001b[39mnot\u001b[39;00m seq:\n\u001b[0;32m    370\u001b[0m     \u001b[39mraise\u001b[39;00m \u001b[39mIndexError\u001b[39;00m(\u001b[39m'\u001b[39m\u001b[39mCannot choose from an empty sequence\u001b[39m\u001b[39m'\u001b[39m)\n\u001b[1;32m--> 371\u001b[0m \u001b[39mreturn\u001b[39;00m seq[\u001b[39mself\u001b[39;49m\u001b[39m.\u001b[39;49m_randbelow(\u001b[39mlen\u001b[39;49m(seq))]\n",
      "\u001b[1;31mTypeError\u001b[0m: 'set' object is not subscriptable"
     ]
    }
   ],
   "source": [
    "tipo = ['T','C','P','E']\n",
    "numero = list(range(1,14))\n",
    "mazo = baraja(tipo,numero)\n",
    "\n",
    "mazo1 = random_sets(mazo)[0]\n",
    "mazo2 = random_sets(mazo)[1]\n"
   ]
  }
 ],
 "metadata": {
  "kernelspec": {
   "display_name": "Python 3",
   "language": "python",
   "name": "python3"
  },
  "language_info": {
   "codemirror_mode": {
    "name": "ipython",
    "version": 3
   },
   "file_extension": ".py",
   "mimetype": "text/x-python",
   "name": "python",
   "nbconvert_exporter": "python",
   "pygments_lexer": "ipython3",
   "version": "3.11.1 (tags/v3.11.1:a7a450f, Dec  6 2022, 19:58:39) [MSC v.1934 64 bit (AMD64)]"
  },
  "orig_nbformat": 4,
  "vscode": {
   "interpreter": {
    "hash": "8a5edab282632443219e051e4ade2d1d5bbc671c781051bf1437897cbdfea0f1"
   }
  }
 },
 "nbformat": 4,
 "nbformat_minor": 2
}
